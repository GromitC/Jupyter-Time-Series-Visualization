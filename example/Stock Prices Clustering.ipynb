{
 "cells": [
  {
   "cell_type": "code",
   "execution_count": null,
   "metadata": {
    "scrolled": true
   },
   "outputs": [],
   "source": [
    "import pickle\n",
    "import sys\n",
    "sys.path.append(\"..\")\n",
    "import numpy as np\n",
    "from TSVis.widget import TimeSeriesVis\n",
    "\n",
    "with open('stock.pickle', 'rb') as handle:\n",
    "    result = pickle.load(handle)\n",
    "    \n",
    "summary = TimeSeriesVis(n_cols=4,\n",
    "                        padding=50,\n",
    "                        n_ticks=3,\n",
    "                        chart_width=180,\n",
    "                        chart_height=90,\n",
    "                        interpolate=200)\n",
    "\n",
    "summary.fit(result['result'],\n",
    "            central_line=result['center_line'])"
   ]
  },
  {
   "cell_type": "code",
   "execution_count": null,
   "metadata": {},
   "outputs": [],
   "source": [
    "summary.visualize()"
   ]
  },
  {
   "cell_type": "code",
   "execution_count": null,
   "metadata": {},
   "outputs": [],
   "source": [
    "from TSVis.util import *\n",
    "interesting_patterns = [5]\n",
    "\n",
    "data_group, labels_group, center_lines, list_idx = separateData([result['result'][i] for i in interesting_patterns], center_line=[result['center_line'][i] for i in interesting_patterns],labels=[result['labels'][i] for i in interesting_patterns])"
   ]
  },
  {
   "cell_type": "code",
   "execution_count": null,
   "metadata": {},
   "outputs": [],
   "source": [
    "interesting_patterns = [5]\n",
    "summary_new = TimeSeriesVis(n_cols=4,\n",
    "                        padding=50,\n",
    "                        n_ticks=3,\n",
    "                        chart_width=180,\n",
    "                        chart_height=90,\n",
    "                        interpolate=200)\n",
    "summary_new.fit(data_group,\n",
    "            central_line=center_lines,\n",
    "               labels=labels_group)"
   ]
  },
  {
   "cell_type": "code",
   "execution_count": null,
   "metadata": {},
   "outputs": [],
   "source": [
    "summary_new.visualize()"
   ]
  }
 ],
 "metadata": {
  "kernelspec": {
   "display_name": "Python 3 (ipykernel)",
   "language": "python",
   "name": "python3"
  },
  "language_info": {
   "codemirror_mode": {
    "name": "ipython",
    "version": 3
   },
   "file_extension": ".py",
   "mimetype": "text/x-python",
   "name": "python",
   "nbconvert_exporter": "python",
   "pygments_lexer": "ipython3",
   "version": "3.10.18"
  }
 },
 "nbformat": 4,
 "nbformat_minor": 4
}
