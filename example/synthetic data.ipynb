{
 "cells": [
  {
   "cell_type": "code",
   "execution_count": null,
   "metadata": {},
   "outputs": [],
   "source": [
    "import sys\n",
    "sys.path.append(\"..\")\n",
    "\n",
    "from TSVis.synthetic_data import generateSyntheticData\n",
    "from TSVis.widget import TimeSeriesVis\n",
    "import random\n",
    "import numpy as np\n",
    "\n",
    "data = generateSyntheticData(50,40)\n",
    "cl = [random.choice(_d) for _d in data]\n",
    "labels = ['blue','blue','blue','orange','red']\n",
    "\n",
    "vis = TimeSeriesVis(\n",
    "    #x domain labels (useful for specifying date)\n",
    "    x_domain = np.arange(40),\n",
    "    #number of columns\n",
    "    n_cols=3,\n",
    "    #chart width (px)\n",
    "    chart_width=300,\n",
    "    #chart height (px)\n",
    "    chart_height=150,\n",
    "    #padding between charts (px)\n",
    "    padding=50,\n",
    "    #number of x,y ticks\n",
    "    n_ticks=5,\n",
    "    #number of bins in density map (~resolution)\n",
    "    interpolate=200\n",
    ")\n",
    "\n",
    "vis.fit(\n",
    "    data,\n",
    "    central_line=cl,\n",
    "    labels=labels\n",
    ")\n"
   ]
  },
  {
   "cell_type": "code",
   "execution_count": null,
   "metadata": {},
   "outputs": [],
   "source": [
    "vis.visualize()"
   ]
  }
 ],
 "metadata": {
  "kernelspec": {
   "display_name": "Python 3",
   "language": "python",
   "name": "python3"
  },
  "language_info": {
   "codemirror_mode": {
    "name": "ipython",
    "version": 3
   },
   "file_extension": ".py",
   "mimetype": "text/x-python",
   "name": "python",
   "nbconvert_exporter": "python",
   "pygments_lexer": "ipython3",
   "version": "3.7.4"
  }
 },
 "nbformat": 4,
 "nbformat_minor": 4
}
