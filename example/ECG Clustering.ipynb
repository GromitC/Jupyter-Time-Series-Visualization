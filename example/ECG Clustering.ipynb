{
 "cells": [
  {
   "cell_type": "code",
   "execution_count": null,
   "metadata": {},
   "outputs": [],
   "source": [
    "import pickle\n",
    "import sys\n",
    "sys.path.append(\"..\")\n",
    "from TSVis.widget import TimeSeriesVis\n",
    "\n",
    "with open('ecg.pickle', 'rb') as handle:\n",
    "    result = pickle.load(handle)\n",
    "    \n",
    "summary = TimeSeriesVis(n_cols=6,\n",
    "                        padding=50,\n",
    "                        n_ticks=3,\n",
    "                        chart_width=140,\n",
    "                        chart_height=70)\n",
    "\n",
    "summary.fit(result['result'],\n",
    "            central_line=result['center_line'],\n",
    "            labels=result['labels'],\n",
    "            labels_order=['N','SVEB','VEB','F','Q'])"
   ]
  },
  {
   "cell_type": "code",
   "execution_count": null,
   "metadata": {},
   "outputs": [],
   "source": [
    "summary.visualize()"
   ]
  }
 ],
 "metadata": {
  "kernelspec": {
   "display_name": "Python 3",
   "language": "python",
   "name": "python3"
  },
  "language_info": {
   "codemirror_mode": {
    "name": "ipython",
    "version": 3
   },
   "file_extension": ".py",
   "mimetype": "text/x-python",
   "name": "python",
   "nbconvert_exporter": "python",
   "pygments_lexer": "ipython3",
   "version": "3.7.4"
  }
 },
 "nbformat": 4,
 "nbformat_minor": 4
}
